{
 "cells": [
  {
   "cell_type": "code",
   "execution_count": 1,
   "id": "8bb3fa57",
   "metadata": {},
   "outputs": [],
   "source": [
    "import numpy as np\n",
    "import pandas as pd\n",
    "import os\n",
    "import matplotlib.pyplot as plt\n",
    "import seaborn as sns\n",
    "\n",
    "from env import get_connection"
   ]
  },
  {
   "cell_type": "code",
   "execution_count": 2,
   "id": "ac1f552f",
   "metadata": {},
   "outputs": [],
   "source": [
    "def get_zillow():\n",
    "    \n",
    "    filename = 'zillow.csv'\n",
    "    \n",
    "    if os.path.isfile(filename):\n",
    "        \n",
    "        print('found data')\n",
    "        \n",
    "        return pd.read_csv(filename)\n",
    "    \n",
    "    else:\n",
    "        \n",
    "        print('retrieving data')\n",
    "        \n",
    "        query = '''\n",
    "                SELECT bedroomcnt, bathroomcnt, calculatedfinishedsquarefeet, taxvaluedollarcnt, yearbuilt, taxamount, fips\n",
    "                FROM properties_2017\n",
    "                WHERE propertylandusetypeid = '261';\n",
    "                '''\n",
    "        \n",
    "        url = get_connection('zillow')\n",
    "        \n",
    "        df = pd.read_sql(query, url)\n",
    "        \n",
    "        df.to_csv(filename, index = 0)\n",
    "        \n",
    "        return df"
   ]
  },
  {
   "cell_type": "code",
   "execution_count": 3,
   "id": "3f92705f",
   "metadata": {},
   "outputs": [
    {
     "name": "stdout",
     "output_type": "stream",
     "text": [
      "found data\n"
     ]
    },
    {
     "data": {
      "text/html": [
       "<div>\n",
       "<style scoped>\n",
       "    .dataframe tbody tr th:only-of-type {\n",
       "        vertical-align: middle;\n",
       "    }\n",
       "\n",
       "    .dataframe tbody tr th {\n",
       "        vertical-align: top;\n",
       "    }\n",
       "\n",
       "    .dataframe thead th {\n",
       "        text-align: right;\n",
       "    }\n",
       "</style>\n",
       "<table border=\"1\" class=\"dataframe\">\n",
       "  <thead>\n",
       "    <tr style=\"text-align: right;\">\n",
       "      <th></th>\n",
       "      <th>bedroomcnt</th>\n",
       "      <th>bathroomcnt</th>\n",
       "      <th>calculatedfinishedsquarefeet</th>\n",
       "      <th>taxvaluedollarcnt</th>\n",
       "      <th>yearbuilt</th>\n",
       "      <th>taxamount</th>\n",
       "      <th>fips</th>\n",
       "    </tr>\n",
       "  </thead>\n",
       "  <tbody>\n",
       "    <tr>\n",
       "      <th>0</th>\n",
       "      <td>0.0</td>\n",
       "      <td>0.0</td>\n",
       "      <td>NaN</td>\n",
       "      <td>27516.0</td>\n",
       "      <td>NaN</td>\n",
       "      <td>NaN</td>\n",
       "      <td>6037.0</td>\n",
       "    </tr>\n",
       "    <tr>\n",
       "      <th>1</th>\n",
       "      <td>0.0</td>\n",
       "      <td>0.0</td>\n",
       "      <td>NaN</td>\n",
       "      <td>10.0</td>\n",
       "      <td>NaN</td>\n",
       "      <td>NaN</td>\n",
       "      <td>6037.0</td>\n",
       "    </tr>\n",
       "    <tr>\n",
       "      <th>2</th>\n",
       "      <td>0.0</td>\n",
       "      <td>0.0</td>\n",
       "      <td>NaN</td>\n",
       "      <td>10.0</td>\n",
       "      <td>NaN</td>\n",
       "      <td>NaN</td>\n",
       "      <td>6037.0</td>\n",
       "    </tr>\n",
       "    <tr>\n",
       "      <th>3</th>\n",
       "      <td>0.0</td>\n",
       "      <td>0.0</td>\n",
       "      <td>NaN</td>\n",
       "      <td>2108.0</td>\n",
       "      <td>NaN</td>\n",
       "      <td>174.21</td>\n",
       "      <td>6037.0</td>\n",
       "    </tr>\n",
       "    <tr>\n",
       "      <th>4</th>\n",
       "      <td>4.0</td>\n",
       "      <td>2.0</td>\n",
       "      <td>3633.0</td>\n",
       "      <td>296425.0</td>\n",
       "      <td>2005.0</td>\n",
       "      <td>6941.39</td>\n",
       "      <td>6037.0</td>\n",
       "    </tr>\n",
       "  </tbody>\n",
       "</table>\n",
       "</div>"
      ],
      "text/plain": [
       "   bedroomcnt  bathroomcnt  calculatedfinishedsquarefeet  taxvaluedollarcnt  \\\n",
       "0         0.0          0.0                           NaN            27516.0   \n",
       "1         0.0          0.0                           NaN               10.0   \n",
       "2         0.0          0.0                           NaN               10.0   \n",
       "3         0.0          0.0                           NaN             2108.0   \n",
       "4         4.0          2.0                        3633.0           296425.0   \n",
       "\n",
       "   yearbuilt  taxamount    fips  \n",
       "0        NaN        NaN  6037.0  \n",
       "1        NaN        NaN  6037.0  \n",
       "2        NaN        NaN  6037.0  \n",
       "3        NaN     174.21  6037.0  \n",
       "4     2005.0    6941.39  6037.0  "
      ]
     },
     "execution_count": 3,
     "metadata": {},
     "output_type": "execute_result"
    }
   ],
   "source": [
    "df = get_zillow()\n",
    "df.head()"
   ]
  },
  {
   "cell_type": "code",
   "execution_count": 4,
   "id": "a3ec040b",
   "metadata": {},
   "outputs": [
    {
     "data": {
      "text/plain": [
       "(2152863, 7)"
      ]
     },
     "execution_count": 4,
     "metadata": {},
     "output_type": "execute_result"
    }
   ],
   "source": [
    "df.shape"
   ]
  },
  {
   "cell_type": "code",
   "execution_count": 5,
   "id": "67189e48",
   "metadata": {},
   "outputs": [
    {
     "data": {
      "text/plain": [
       "6037.0    1431811\n",
       "6059.0     555077\n",
       "6111.0     165975\n",
       "Name: fips, dtype: int64"
      ]
     },
     "execution_count": 5,
     "metadata": {},
     "output_type": "execute_result"
    }
   ],
   "source": [
    "df.fips.value_counts()"
   ]
  },
  {
   "cell_type": "code",
   "execution_count": 6,
   "id": "907c15ef",
   "metadata": {},
   "outputs": [],
   "source": [
    "df.rename(columns={'bedroomcnt': 'bedrooms', 'bathroomcnt': 'bathrooms', 'calculatedfinishedsquarefeet': 'square_ft', 'taxvaluedollarcnt': 'tax_value', 'yearbuilt': 'year', 'taxamount': 'tax_amount'}, inplace=True)"
   ]
  },
  {
   "cell_type": "code",
   "execution_count": 7,
   "id": "24376aa2",
   "metadata": {
    "scrolled": true
   },
   "outputs": [
    {
     "name": "stdout",
     "output_type": "stream",
     "text": [
      "<class 'pandas.core.frame.DataFrame'>\n",
      "RangeIndex: 2152863 entries, 0 to 2152862\n",
      "Data columns (total 7 columns):\n",
      " #   Column      Dtype  \n",
      "---  ------      -----  \n",
      " 0   bedrooms    float64\n",
      " 1   bathrooms   float64\n",
      " 2   square_ft   float64\n",
      " 3   tax_value   float64\n",
      " 4   year        float64\n",
      " 5   tax_amount  float64\n",
      " 6   fips        float64\n",
      "dtypes: float64(7)\n",
      "memory usage: 115.0 MB\n"
     ]
    }
   ],
   "source": [
    "df.info()"
   ]
  },
  {
   "cell_type": "markdown",
   "id": "60ac1231",
   "metadata": {},
   "source": [
    "## year, bed, sqft should be integers. I have to cast the rest after I determine what to do with null values"
   ]
  },
  {
   "cell_type": "code",
   "execution_count": 8,
   "id": "26ed9502",
   "metadata": {
    "scrolled": true
   },
   "outputs": [
    {
     "data": {
      "text/plain": [
       "bedrooms        11\n",
       "bathrooms       11\n",
       "square_ft     8484\n",
       "tax_value      493\n",
       "year          9337\n",
       "tax_amount    4442\n",
       "fips             0\n",
       "dtype: int64"
      ]
     },
     "execution_count": 8,
     "metadata": {},
     "output_type": "execute_result"
    }
   ],
   "source": [
    "#check for null values\n",
    "df.isna().sum()"
   ]
  },
  {
   "cell_type": "code",
   "execution_count": 9,
   "id": "170f186a",
   "metadata": {},
   "outputs": [
    {
     "name": "stdout",
     "output_type": "stream",
     "text": [
      "<class 'pandas.core.frame.DataFrame'>\n",
      "RangeIndex: 2152863 entries, 0 to 2152862\n",
      "Data columns (total 7 columns):\n",
      " #   Column      Dtype  \n",
      "---  ------      -----  \n",
      " 0   bedrooms    float64\n",
      " 1   bathrooms   float64\n",
      " 2   square_ft   float64\n",
      " 3   tax_value   float64\n",
      " 4   year        float64\n",
      " 5   tax_amount  float64\n",
      " 6   fips        float64\n",
      "dtypes: float64(7)\n",
      "memory usage: 115.0 MB\n"
     ]
    }
   ],
   "source": [
    "df.info()"
   ]
  },
  {
   "cell_type": "markdown",
   "id": "aff27a89",
   "metadata": {},
   "source": [
    "## I will impute median year based of fip for the year null values"
   ]
  },
  {
   "cell_type": "code",
   "execution_count": 10,
   "id": "8bfd1139",
   "metadata": {
    "scrolled": true
   },
   "outputs": [
    {
     "data": {
      "text/plain": [
       "6037.0    3775\n",
       "6111.0    2943\n",
       "6059.0    2619\n",
       "Name: fips, dtype: int64"
      ]
     },
     "execution_count": 10,
     "metadata": {},
     "output_type": "execute_result"
    }
   ],
   "source": [
    "#what fips do null values in year belong to\n",
    "df[df.year.isna()].fips.value_counts()"
   ]
  },
  {
   "cell_type": "markdown",
   "id": "9c50f57b",
   "metadata": {},
   "source": [
    "## I need to impute median year built by fip for null values"
   ]
  },
  {
   "cell_type": "code",
   "execution_count": 11,
   "id": "52100dfb",
   "metadata": {},
   "outputs": [
    {
     "data": {
      "text/plain": [
       "1953.0"
      ]
     },
     "execution_count": 11,
     "metadata": {},
     "output_type": "execute_result"
    }
   ],
   "source": [
    "#median year in 6037 fip\n",
    "df[df.fips == 6037].year.median()"
   ]
  },
  {
   "cell_type": "code",
   "execution_count": 12,
   "id": "581db4df",
   "metadata": {},
   "outputs": [
    {
     "data": {
      "text/plain": [
       "1973.0"
      ]
     },
     "execution_count": 12,
     "metadata": {},
     "output_type": "execute_result"
    }
   ],
   "source": [
    "#median year in 6111 fip\n",
    "df[df.fips == 6111].year.median()"
   ]
  },
  {
   "cell_type": "code",
   "execution_count": 13,
   "id": "90b83c87",
   "metadata": {},
   "outputs": [
    {
     "data": {
      "text/plain": [
       "1970.0"
      ]
     },
     "execution_count": 13,
     "metadata": {},
     "output_type": "execute_result"
    }
   ],
   "source": [
    "#median year in 6059 fip\n",
    "df[df.fips == 6059].year.median()"
   ]
  },
  {
   "cell_type": "code",
   "execution_count": 14,
   "id": "e0885665",
   "metadata": {
    "scrolled": false
   },
   "outputs": [],
   "source": [
    "# fill year nulls in 6037 fip with median year\n",
    "df.loc[df['fips'] == 6037, 'year'] = df.loc[df['fips'] == 6037, 'year'].fillna(1953)"
   ]
  },
  {
   "cell_type": "code",
   "execution_count": 15,
   "id": "c6f37eb7",
   "metadata": {},
   "outputs": [
    {
     "data": {
      "text/plain": [
       "0"
      ]
     },
     "execution_count": 15,
     "metadata": {},
     "output_type": "execute_result"
    }
   ],
   "source": [
    "df.year[df.fips == 6037].isna().sum()"
   ]
  },
  {
   "cell_type": "code",
   "execution_count": 16,
   "id": "31fad294",
   "metadata": {},
   "outputs": [],
   "source": [
    "# fill year nulls in 6111 fip with median year\n",
    "df.loc[df['fips'] == 6111, 'year'] = df.loc[df['fips'] == 6111, 'year'].fillna(1973)\n"
   ]
  },
  {
   "cell_type": "code",
   "execution_count": 17,
   "id": "34bf3d7a",
   "metadata": {},
   "outputs": [
    {
     "data": {
      "text/plain": [
       "0"
      ]
     },
     "execution_count": 17,
     "metadata": {},
     "output_type": "execute_result"
    }
   ],
   "source": [
    "df.year[df.fips == 6111].isna().sum()"
   ]
  },
  {
   "cell_type": "code",
   "execution_count": 18,
   "id": "5b86764c",
   "metadata": {},
   "outputs": [],
   "source": [
    "# fill year nulls in 6059 fip with median year\n",
    "df.loc[df['fips'] == 6059, 'year'] = df.loc[df['fips'] == 6059, 'year'].fillna(1970)"
   ]
  },
  {
   "cell_type": "code",
   "execution_count": 19,
   "id": "bc2b749c",
   "metadata": {},
   "outputs": [
    {
     "data": {
      "text/plain": [
       "0"
      ]
     },
     "execution_count": 19,
     "metadata": {},
     "output_type": "execute_result"
    }
   ],
   "source": [
    "df.year[df.fips == 6059].isna().sum()"
   ]
  },
  {
   "cell_type": "code",
   "execution_count": 20,
   "id": "d3a4cbd5",
   "metadata": {},
   "outputs": [
    {
     "data": {
      "text/plain": [
       "bedrooms        11\n",
       "bathrooms       11\n",
       "square_ft     8484\n",
       "tax_value      493\n",
       "year             0\n",
       "tax_amount    4442\n",
       "fips             0\n",
       "dtype: int64"
      ]
     },
     "execution_count": 20,
     "metadata": {},
     "output_type": "execute_result"
    }
   ],
   "source": [
    "#check total nulls\n",
    "df.isna().sum()"
   ]
  },
  {
   "cell_type": "code",
   "execution_count": 21,
   "id": "6558a10b",
   "metadata": {},
   "outputs": [],
   "source": [
    "#cast to int\n",
    "df.year = df.year.astype('int')"
   ]
  },
  {
   "cell_type": "markdown",
   "id": "6ed53cf3",
   "metadata": {},
   "source": [
    "## For square ft nulls I will do a similar approach and determine what the median square ft is grouped by fip and fill nulls with median values"
   ]
  },
  {
   "cell_type": "code",
   "execution_count": 22,
   "id": "864cb285",
   "metadata": {},
   "outputs": [
    {
     "data": {
      "text/plain": [
       "6037.0    3495\n",
       "6059.0    2717\n",
       "6111.0    2272\n",
       "Name: fips, dtype: int64"
      ]
     },
     "execution_count": 22,
     "metadata": {},
     "output_type": "execute_result"
    }
   ],
   "source": [
    "#what fips do null values in square ft belong to\n",
    "df[df.square_ft.isna()].fips.value_counts()"
   ]
  },
  {
   "cell_type": "code",
   "execution_count": 23,
   "id": "f8c2c607",
   "metadata": {
    "scrolled": true
   },
   "outputs": [
    {
     "data": {
      "text/plain": [
       "1535.0"
      ]
     },
     "execution_count": 23,
     "metadata": {},
     "output_type": "execute_result"
    }
   ],
   "source": [
    "#median square ft in 6037 fip\n",
    "df[df.fips == 6037].square_ft.median()"
   ]
  },
  {
   "cell_type": "code",
   "execution_count": 24,
   "id": "8ae9abd1",
   "metadata": {},
   "outputs": [
    {
     "data": {
      "text/plain": [
       "1831.0"
      ]
     },
     "execution_count": 24,
     "metadata": {},
     "output_type": "execute_result"
    }
   ],
   "source": [
    "#median square ft in 6059 fip\n",
    "df[df.fips == 6059].square_ft.median()"
   ]
  },
  {
   "cell_type": "code",
   "execution_count": 25,
   "id": "659126ba",
   "metadata": {},
   "outputs": [
    {
     "data": {
      "text/plain": [
       "1811.0"
      ]
     },
     "execution_count": 25,
     "metadata": {},
     "output_type": "execute_result"
    }
   ],
   "source": [
    "#median square ft in 6111 fip\n",
    "df[df.fips == 6111].square_ft.median()"
   ]
  },
  {
   "cell_type": "code",
   "execution_count": 26,
   "id": "ec9fe6bf",
   "metadata": {},
   "outputs": [],
   "source": [
    "#fill square ft nulls in 6037 fip with median square ft\n",
    "df.loc[df['fips'] == 6037, 'square_ft'] = df.loc[df['fips'] == 6037, 'square_ft'].fillna(1535)"
   ]
  },
  {
   "cell_type": "code",
   "execution_count": 27,
   "id": "94be36df",
   "metadata": {},
   "outputs": [],
   "source": [
    "#fill square ft nulls in 6059 fip with median square ft\n",
    "df.loc[df['fips'] == 6059, 'square_ft'] = df.loc[df['fips'] == 6059, 'square_ft'].fillna(1831)"
   ]
  },
  {
   "cell_type": "code",
   "execution_count": 28,
   "id": "8b85e469",
   "metadata": {},
   "outputs": [],
   "source": [
    "#fill square ft nulls in 6111 fip with median square ft\n",
    "df.loc[df['fips'] == 6111, 'square_ft'] = df.loc[df['fips'] == 6111, 'square_ft'].fillna(1811)"
   ]
  },
  {
   "cell_type": "code",
   "execution_count": 29,
   "id": "596060f5",
   "metadata": {
    "scrolled": true
   },
   "outputs": [
    {
     "data": {
      "text/plain": [
       "Series([], Name: fips, dtype: int64)"
      ]
     },
     "execution_count": 29,
     "metadata": {},
     "output_type": "execute_result"
    }
   ],
   "source": [
    "#make sure there are no more nulls\n",
    "df[df.square_ft.isna()].fips.value_counts()"
   ]
  },
  {
   "cell_type": "code",
   "execution_count": 30,
   "id": "f92ad95c",
   "metadata": {
    "scrolled": true
   },
   "outputs": [
    {
     "data": {
      "text/plain": [
       "bedrooms        11\n",
       "bathrooms       11\n",
       "square_ft        0\n",
       "tax_value      493\n",
       "year             0\n",
       "tax_amount    4442\n",
       "fips             0\n",
       "dtype: int64"
      ]
     },
     "execution_count": 30,
     "metadata": {},
     "output_type": "execute_result"
    }
   ],
   "source": [
    "#check total nulls\n",
    "df.isna().sum()"
   ]
  },
  {
   "cell_type": "code",
   "execution_count": 31,
   "id": "6d53577c",
   "metadata": {},
   "outputs": [],
   "source": [
    "#cast to int\n",
    "df.square_ft = df.square_ft.astype('int')"
   ]
  },
  {
   "cell_type": "markdown",
   "id": "f05682bb",
   "metadata": {},
   "source": [
    "## Investigate bedrooms and bathrooms"
   ]
  },
  {
   "cell_type": "code",
   "execution_count": 32,
   "id": "a8d4f6a8",
   "metadata": {
    "scrolled": true
   },
   "outputs": [
    {
     "data": {
      "text/plain": [
       "bedrooms      13187\n",
       "bathrooms     13187\n",
       "square_ft     13187\n",
       "tax_value     12803\n",
       "year          13187\n",
       "tax_amount    11245\n",
       "fips          13187\n",
       "dtype: int64"
      ]
     },
     "execution_count": 32,
     "metadata": {},
     "output_type": "execute_result"
    }
   ],
   "source": [
    "df[df.bedrooms == 0].count()"
   ]
  },
  {
   "cell_type": "markdown",
   "id": "7149ccc0",
   "metadata": {},
   "source": [
    "## There are 13,187 properties with zero rooms. Why?"
   ]
  },
  {
   "cell_type": "code",
   "execution_count": 33,
   "id": "9d7e2d75",
   "metadata": {},
   "outputs": [
    {
     "data": {
      "text/plain": [
       "bedrooms      13027\n",
       "bathrooms     13027\n",
       "square_ft     13027\n",
       "tax_value     12642\n",
       "year          13027\n",
       "tax_amount    11112\n",
       "fips          13027\n",
       "dtype: int64"
      ]
     },
     "execution_count": 33,
     "metadata": {},
     "output_type": "execute_result"
    }
   ],
   "source": [
    "df[df.bathrooms == 0].count()"
   ]
  },
  {
   "cell_type": "markdown",
   "id": "2748ed49",
   "metadata": {},
   "source": [
    "## There are 13,027 properties with zero bathrooms. Why?"
   ]
  },
  {
   "cell_type": "code",
   "execution_count": 34,
   "id": "ab27b950",
   "metadata": {
    "scrolled": false
   },
   "outputs": [
    {
     "data": {
      "text/plain": [
       "1535    5\n",
       "1831    2\n",
       "1348    1\n",
       "200     1\n",
       "990     1\n",
       "400     1\n",
       "Name: square_ft, dtype: int64"
      ]
     },
     "execution_count": 34,
     "metadata": {},
     "output_type": "execute_result"
    }
   ],
   "source": [
    "df[df.bedrooms.isna()].square_ft.value_counts()"
   ]
  },
  {
   "cell_type": "markdown",
   "id": "ef122ebc",
   "metadata": {},
   "source": [
    "## I will drop nulls and zeros with median bedrooms grouped by fip"
   ]
  },
  {
   "cell_type": "code",
   "execution_count": 35,
   "id": "28ed30d1",
   "metadata": {
    "scrolled": true
   },
   "outputs": [],
   "source": [
    "# Drop rows with null values in the specified column\n",
    "df.dropna(subset = ['bedrooms'], inplace = True)"
   ]
  },
  {
   "cell_type": "code",
   "execution_count": 36,
   "id": "a9697f50",
   "metadata": {},
   "outputs": [],
   "source": [
    "df.dropna(subset = ['bathrooms'], inplace = True)"
   ]
  },
  {
   "cell_type": "code",
   "execution_count": 37,
   "id": "4311d58a",
   "metadata": {
    "scrolled": true
   },
   "outputs": [
    {
     "data": {
      "text/plain": [
       "bedrooms         0\n",
       "bathrooms        0\n",
       "square_ft        0\n",
       "tax_value      493\n",
       "year             0\n",
       "tax_amount    4433\n",
       "fips             0\n",
       "dtype: int64"
      ]
     },
     "execution_count": 37,
     "metadata": {},
     "output_type": "execute_result"
    }
   ],
   "source": [
    "#check total nulls\n",
    "df.isna().sum()"
   ]
  },
  {
   "cell_type": "markdown",
   "id": "49df8a23",
   "metadata": {},
   "source": [
    "## For now i will drop remainding nulls. "
   ]
  },
  {
   "cell_type": "code",
   "execution_count": 38,
   "id": "dd11f022",
   "metadata": {},
   "outputs": [],
   "source": [
    "df = df.dropna()"
   ]
  },
  {
   "cell_type": "code",
   "execution_count": 39,
   "id": "4d0c5d0d",
   "metadata": {},
   "outputs": [
    {
     "data": {
      "text/plain": [
       "bedrooms      0\n",
       "bathrooms     0\n",
       "square_ft     0\n",
       "tax_value     0\n",
       "year          0\n",
       "tax_amount    0\n",
       "fips          0\n",
       "dtype: int64"
      ]
     },
     "execution_count": 39,
     "metadata": {},
     "output_type": "execute_result"
    }
   ],
   "source": [
    "#check total nulls\n",
    "df.isna().sum()"
   ]
  },
  {
   "cell_type": "code",
   "execution_count": 40,
   "id": "ba59b34f",
   "metadata": {},
   "outputs": [],
   "source": [
    "#cast to int\n",
    "df.tax_value = df.tax_value.astype('int')"
   ]
  },
  {
   "cell_type": "code",
   "execution_count": 41,
   "id": "c5387c5a",
   "metadata": {},
   "outputs": [],
   "source": [
    "#cast to int\n",
    "df.bedrooms = df.bedrooms.astype('int')"
   ]
  },
  {
   "cell_type": "code",
   "execution_count": 42,
   "id": "bdad556e",
   "metadata": {
    "scrolled": false
   },
   "outputs": [
    {
     "name": "stdout",
     "output_type": "stream",
     "text": [
      "<class 'pandas.core.frame.DataFrame'>\n",
      "Int64Index: 2148388 entries, 3 to 2152862\n",
      "Data columns (total 7 columns):\n",
      " #   Column      Dtype  \n",
      "---  ------      -----  \n",
      " 0   bedrooms    int64  \n",
      " 1   bathrooms   float64\n",
      " 2   square_ft   int64  \n",
      " 3   tax_value   int64  \n",
      " 4   year        int64  \n",
      " 5   tax_amount  float64\n",
      " 6   fips        float64\n",
      "dtypes: float64(3), int64(4)\n",
      "memory usage: 131.1 MB\n"
     ]
    }
   ],
   "source": [
    "df.info()"
   ]
  },
  {
   "cell_type": "markdown",
   "id": "27915b1b",
   "metadata": {},
   "source": [
    "## With more time I need to determine if tax value is correlated to bedrooms, year, square ft, and fip. If true I can potentially fill nulls with median tax value of properties with median bedrooms, year, square ft grouped by fip. Else I will drop"
   ]
  },
  {
   "cell_type": "markdown",
   "id": "98c9a691",
   "metadata": {},
   "source": [
    "## With time I will leave tax amount null values and determine what to do with them when exploring for correlation with tax value on my train data set. I can potentially fill nulls with median tax value multiplied by average tax rate in corresponding fip"
   ]
  },
  {
   "cell_type": "markdown",
   "id": "8b2f0e71",
   "metadata": {},
   "source": [
    "# I will rename fips to county and rename values to corresponding county name"
   ]
  },
  {
   "cell_type": "code",
   "execution_count": 43,
   "id": "e686d309",
   "metadata": {},
   "outputs": [],
   "source": [
    "df['fips'] = df['fips'].map({6037: 'Los Angeles', 6059: 'Orange', 6111: 'Ventura'})"
   ]
  },
  {
   "cell_type": "code",
   "execution_count": 44,
   "id": "17fc1568",
   "metadata": {},
   "outputs": [],
   "source": [
    "df.rename(columns = {'fips': 'county'}, inplace = True)"
   ]
  },
  {
   "cell_type": "code",
   "execution_count": 45,
   "id": "be0bf407",
   "metadata": {},
   "outputs": [
    {
     "data": {
      "text/plain": [
       "Los Angeles    1427802\n",
       "Orange          554773\n",
       "Ventura         165813\n",
       "Name: county, dtype: int64"
      ]
     },
     "execution_count": 45,
     "metadata": {},
     "output_type": "execute_result"
    }
   ],
   "source": [
    "df.county.value_counts()"
   ]
  },
  {
   "cell_type": "code",
   "execution_count": 46,
   "id": "0e7a2e03",
   "metadata": {
    "scrolled": false
   },
   "outputs": [
    {
     "data": {
      "text/html": [
       "<div>\n",
       "<style scoped>\n",
       "    .dataframe tbody tr th:only-of-type {\n",
       "        vertical-align: middle;\n",
       "    }\n",
       "\n",
       "    .dataframe tbody tr th {\n",
       "        vertical-align: top;\n",
       "    }\n",
       "\n",
       "    .dataframe thead th {\n",
       "        text-align: right;\n",
       "    }\n",
       "</style>\n",
       "<table border=\"1\" class=\"dataframe\">\n",
       "  <thead>\n",
       "    <tr style=\"text-align: right;\">\n",
       "      <th></th>\n",
       "      <th>bedrooms</th>\n",
       "      <th>bathrooms</th>\n",
       "      <th>square_ft</th>\n",
       "      <th>tax_value</th>\n",
       "      <th>year</th>\n",
       "      <th>tax_amount</th>\n",
       "      <th>county</th>\n",
       "    </tr>\n",
       "  </thead>\n",
       "  <tbody>\n",
       "    <tr>\n",
       "      <th>3</th>\n",
       "      <td>0</td>\n",
       "      <td>0.0</td>\n",
       "      <td>1535</td>\n",
       "      <td>2108</td>\n",
       "      <td>1953</td>\n",
       "      <td>174.21</td>\n",
       "      <td>Los Angeles</td>\n",
       "    </tr>\n",
       "    <tr>\n",
       "      <th>4</th>\n",
       "      <td>4</td>\n",
       "      <td>2.0</td>\n",
       "      <td>3633</td>\n",
       "      <td>296425</td>\n",
       "      <td>2005</td>\n",
       "      <td>6941.39</td>\n",
       "      <td>Los Angeles</td>\n",
       "    </tr>\n",
       "    <tr>\n",
       "      <th>6</th>\n",
       "      <td>3</td>\n",
       "      <td>4.0</td>\n",
       "      <td>1620</td>\n",
       "      <td>847770</td>\n",
       "      <td>2011</td>\n",
       "      <td>10244.94</td>\n",
       "      <td>Los Angeles</td>\n",
       "    </tr>\n",
       "    <tr>\n",
       "      <th>7</th>\n",
       "      <td>3</td>\n",
       "      <td>2.0</td>\n",
       "      <td>2077</td>\n",
       "      <td>646760</td>\n",
       "      <td>1926</td>\n",
       "      <td>7924.68</td>\n",
       "      <td>Los Angeles</td>\n",
       "    </tr>\n",
       "    <tr>\n",
       "      <th>8</th>\n",
       "      <td>0</td>\n",
       "      <td>0.0</td>\n",
       "      <td>1535</td>\n",
       "      <td>6730242</td>\n",
       "      <td>1953</td>\n",
       "      <td>80348.13</td>\n",
       "      <td>Los Angeles</td>\n",
       "    </tr>\n",
       "  </tbody>\n",
       "</table>\n",
       "</div>"
      ],
      "text/plain": [
       "   bedrooms  bathrooms  square_ft  tax_value  year  tax_amount       county\n",
       "3         0        0.0       1535       2108  1953      174.21  Los Angeles\n",
       "4         4        2.0       3633     296425  2005     6941.39  Los Angeles\n",
       "6         3        4.0       1620     847770  2011    10244.94  Los Angeles\n",
       "7         3        2.0       2077     646760  1926     7924.68  Los Angeles\n",
       "8         0        0.0       1535    6730242  1953    80348.13  Los Angeles"
      ]
     },
     "execution_count": 46,
     "metadata": {},
     "output_type": "execute_result"
    }
   ],
   "source": [
    "df.head()"
   ]
  },
  {
   "cell_type": "code",
   "execution_count": 47,
   "id": "df9d7850",
   "metadata": {},
   "outputs": [],
   "source": [
    "def clean_zillow():\n",
    "    \n",
    "    df = get_zillow()\n",
    "    \n",
    "    df = df.rename(columns={'bedroomcnt': 'bedrooms', 'bathroomcnt': 'bathrooms', 'calculatedfinishedsquarefeet': 'square_ft', 'taxvaluedollarcnt': 'tax_value', 'yearbuilt': 'year', 'taxamount': 'tax_amount'})\n",
    "    \n",
    "    # fill year nulls in fip with median year\n",
    "    df.loc[df['fips'] == 6037, 'year'] = df.loc[df['fips'] == 6037, 'year'].fillna(1953)\n",
    "    \n",
    "    df.loc[df['fips'] == 6111, 'year'] = df.loc[df['fips'] == 6111, 'year'].fillna(1973)\n",
    "    \n",
    "    df.loc[df['fips'] == 6059, 'year'] = df.loc[df['fips'] == 6059, 'year'].fillna(1970)\n",
    "    \n",
    "    #fill square ft nulls in 6037 fip with median square ft\n",
    "    df.loc[df['fips'] == 6037, 'square_ft'] = df.loc[df['fips'] == 6037, 'square_ft'].fillna(1535)\n",
    "    \n",
    "    df.loc[df['fips'] == 6059, 'square_ft'] = df.loc[df['fips'] == 6059, 'square_ft'].fillna(1831)\n",
    "    \n",
    "    df.loc[df['fips'] == 6111, 'square_ft'] = df.loc[df['fips'] == 6111, 'square_ft'].fillna(1811)\n",
    "    \n",
    "    #cast to int\n",
    "    df.tax_value = df.tax_value.astype('int')\n",
    "    \n",
    "    df.year = df.year.astype('int')\n",
    "    \n",
    "    df.square_ft = df.square_ft.astype('int')\n",
    "    \n",
    "    df.bedrooms = df.bedrooms.astype('int')\n",
    "    \n",
    "    #drop remainding nulls\n",
    "    df = df.dropna()\n",
    "    \n",
    "    #rename fips column and values\n",
    "    df['fips'] = df['fips'].map({6037: 'Los Angeles', 6059: 'Orange', 6111: 'Ventura'})\n",
    "    \n",
    "    df = df.rename(columns = {'fips': 'county'})\n",
    "    \n",
    "    return df"
   ]
  },
  {
   "cell_type": "code",
   "execution_count": null,
   "id": "0246431a",
   "metadata": {},
   "outputs": [],
   "source": []
  }
 ],
 "metadata": {
  "kernelspec": {
   "display_name": "Python 3 (ipykernel)",
   "language": "python",
   "name": "python3"
  },
  "language_info": {
   "codemirror_mode": {
    "name": "ipython",
    "version": 3
   },
   "file_extension": ".py",
   "mimetype": "text/x-python",
   "name": "python",
   "nbconvert_exporter": "python",
   "pygments_lexer": "ipython3",
   "version": "3.11.3"
  }
 },
 "nbformat": 4,
 "nbformat_minor": 5
}
