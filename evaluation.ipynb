{
 "cells": [
  {
   "cell_type": "code",
   "execution_count": 1,
   "id": "a21ee81f",
   "metadata": {},
   "outputs": [],
   "source": [
    "import numpy as np\n",
    "import pandas as pd\n",
    "import seaborn as sns\n",
    "import matplotlib.pyplot as plt\n",
    "import wrangle as w\n",
    "import prepare as p\n",
    "import explore as e\n",
    "\n",
    "from scipy import stats\n",
    "from sklearn.metrics import mean_squared_error, r2_score, explained_variance_score\n",
    "from sklearn.linear_model import LinearRegression\n",
    "from math import sqrt"
   ]
  },
  {
   "cell_type": "markdown",
   "id": "f978d71a",
   "metadata": {},
   "source": [
    "## Load your zillow dataset."
   ]
  },
  {
   "cell_type": "code",
   "execution_count": 3,
   "id": "eb0b244b",
   "metadata": {},
   "outputs": [
    {
     "name": "stdout",
     "output_type": "stream",
     "text": [
      "found data\n"
     ]
    },
    {
     "data": {
      "text/html": [
       "<div>\n",
       "<style scoped>\n",
       "    .dataframe tbody tr th:only-of-type {\n",
       "        vertical-align: middle;\n",
       "    }\n",
       "\n",
       "    .dataframe tbody tr th {\n",
       "        vertical-align: top;\n",
       "    }\n",
       "\n",
       "    .dataframe thead th {\n",
       "        text-align: right;\n",
       "    }\n",
       "</style>\n",
       "<table border=\"1\" class=\"dataframe\">\n",
       "  <thead>\n",
       "    <tr style=\"text-align: right;\">\n",
       "      <th></th>\n",
       "      <th>bedrooms</th>\n",
       "      <th>bathrooms</th>\n",
       "      <th>square_ft</th>\n",
       "      <th>tax_value</th>\n",
       "      <th>year</th>\n",
       "      <th>tax_amount</th>\n",
       "      <th>county</th>\n",
       "    </tr>\n",
       "  </thead>\n",
       "  <tbody>\n",
       "    <tr>\n",
       "      <th>3</th>\n",
       "      <td>0</td>\n",
       "      <td>0.0</td>\n",
       "      <td>1535</td>\n",
       "      <td>2108</td>\n",
       "      <td>1953</td>\n",
       "      <td>174.21</td>\n",
       "      <td>Los Angeles</td>\n",
       "    </tr>\n",
       "    <tr>\n",
       "      <th>4</th>\n",
       "      <td>4</td>\n",
       "      <td>2.0</td>\n",
       "      <td>3633</td>\n",
       "      <td>296425</td>\n",
       "      <td>2005</td>\n",
       "      <td>6941.39</td>\n",
       "      <td>Los Angeles</td>\n",
       "    </tr>\n",
       "    <tr>\n",
       "      <th>6</th>\n",
       "      <td>3</td>\n",
       "      <td>4.0</td>\n",
       "      <td>1620</td>\n",
       "      <td>847770</td>\n",
       "      <td>2011</td>\n",
       "      <td>10244.94</td>\n",
       "      <td>Los Angeles</td>\n",
       "    </tr>\n",
       "    <tr>\n",
       "      <th>7</th>\n",
       "      <td>3</td>\n",
       "      <td>2.0</td>\n",
       "      <td>2077</td>\n",
       "      <td>646760</td>\n",
       "      <td>1926</td>\n",
       "      <td>7924.68</td>\n",
       "      <td>Los Angeles</td>\n",
       "    </tr>\n",
       "    <tr>\n",
       "      <th>8</th>\n",
       "      <td>0</td>\n",
       "      <td>0.0</td>\n",
       "      <td>1535</td>\n",
       "      <td>6730242</td>\n",
       "      <td>1953</td>\n",
       "      <td>80348.13</td>\n",
       "      <td>Los Angeles</td>\n",
       "    </tr>\n",
       "  </tbody>\n",
       "</table>\n",
       "</div>"
      ],
      "text/plain": [
       "   bedrooms  bathrooms  square_ft  tax_value  year  tax_amount       county\n",
       "3         0        0.0       1535       2108  1953      174.21  Los Angeles\n",
       "4         4        2.0       3633     296425  2005     6941.39  Los Angeles\n",
       "6         3        4.0       1620     847770  2011    10244.94  Los Angeles\n",
       "7         3        2.0       2077     646760  1926     7924.68  Los Angeles\n",
       "8         0        0.0       1535    6730242  1953    80348.13  Los Angeles"
      ]
     },
     "execution_count": 3,
     "metadata": {},
     "output_type": "execute_result"
    }
   ],
   "source": [
    "df = w.clean_zillow()\n",
    "\n",
    "df.head()"
   ]
  },
  {
   "cell_type": "markdown",
   "id": "29ef0796",
   "metadata": {},
   "source": [
    "## Calculate the sum of squared errors, explained sum of squares, total sum of squares, mean squared error, and root mean squared error for your model."
   ]
  },
  {
   "cell_type": "code",
   "execution_count": 4,
   "id": "edf882ef",
   "metadata": {},
   "outputs": [
    {
     "data": {
      "text/plain": [
       "((1503871, 7), (322258, 7), (322259, 7))"
      ]
     },
     "execution_count": 4,
     "metadata": {},
     "output_type": "execute_result"
    }
   ],
   "source": [
    "train, val, test = p.split_data(df)\n",
    "\n",
    "train.shape, val.shape, test.shape"
   ]
  },
  {
   "cell_type": "code",
   "execution_count": 5,
   "id": "247a13fa",
   "metadata": {},
   "outputs": [],
   "source": [
    "X_train = train[['square_ft']]\n",
    "y_train = train.tax_value\n",
    "\n",
    "X_val = val[['square_ft']]\n",
    "y_val = val.tax_value"
   ]
  },
  {
   "cell_type": "code",
   "execution_count": 6,
   "id": "e0ac807a",
   "metadata": {},
   "outputs": [
    {
     "data": {
      "text/plain": [
       "327886.0"
      ]
     },
     "execution_count": 6,
     "metadata": {},
     "output_type": "execute_result"
    }
   ],
   "source": [
    "y_train.median()"
   ]
  },
  {
   "cell_type": "code",
   "execution_count": 7,
   "id": "114e1caa",
   "metadata": {},
   "outputs": [
    {
     "data": {
      "text/html": [
       "<div>\n",
       "<style scoped>\n",
       "    .dataframe tbody tr th:only-of-type {\n",
       "        vertical-align: middle;\n",
       "    }\n",
       "\n",
       "    .dataframe tbody tr th {\n",
       "        vertical-align: top;\n",
       "    }\n",
       "\n",
       "    .dataframe thead th {\n",
       "        text-align: right;\n",
       "    }\n",
       "</style>\n",
       "<table border=\"1\" class=\"dataframe\">\n",
       "  <thead>\n",
       "    <tr style=\"text-align: right;\">\n",
       "      <th></th>\n",
       "      <th>y_actual</th>\n",
       "      <th>y_baseline</th>\n",
       "    </tr>\n",
       "  </thead>\n",
       "  <tbody>\n",
       "    <tr>\n",
       "      <th>1911171</th>\n",
       "      <td>288951</td>\n",
       "      <td>327886.0</td>\n",
       "    </tr>\n",
       "    <tr>\n",
       "      <th>818602</th>\n",
       "      <td>266330</td>\n",
       "      <td>327886.0</td>\n",
       "    </tr>\n",
       "    <tr>\n",
       "      <th>1795717</th>\n",
       "      <td>325747</td>\n",
       "      <td>327886.0</td>\n",
       "    </tr>\n",
       "    <tr>\n",
       "      <th>1973528</th>\n",
       "      <td>40740</td>\n",
       "      <td>327886.0</td>\n",
       "    </tr>\n",
       "    <tr>\n",
       "      <th>1139959</th>\n",
       "      <td>369055</td>\n",
       "      <td>327886.0</td>\n",
       "    </tr>\n",
       "  </tbody>\n",
       "</table>\n",
       "</div>"
      ],
      "text/plain": [
       "         y_actual  y_baseline\n",
       "1911171    288951    327886.0\n",
       "818602     266330    327886.0\n",
       "1795717    325747    327886.0\n",
       "1973528     40740    327886.0\n",
       "1139959    369055    327886.0"
      ]
     },
     "execution_count": 7,
     "metadata": {},
     "output_type": "execute_result"
    }
   ],
   "source": [
    "preds = pd.DataFrame({'y_actual': y_train,\n",
    "             'y_baseline': y_train.median()})\n",
    "\n",
    "preds.head()"
   ]
  },
  {
   "cell_type": "code",
   "execution_count": 8,
   "id": "8f419eef",
   "metadata": {},
   "outputs": [
    {
     "data": {
      "text/html": [
       "<div>\n",
       "<style scoped>\n",
       "    .dataframe tbody tr th:only-of-type {\n",
       "        vertical-align: middle;\n",
       "    }\n",
       "\n",
       "    .dataframe tbody tr th {\n",
       "        vertical-align: top;\n",
       "    }\n",
       "\n",
       "    .dataframe thead th {\n",
       "        text-align: right;\n",
       "    }\n",
       "</style>\n",
       "<table border=\"1\" class=\"dataframe\">\n",
       "  <thead>\n",
       "    <tr style=\"text-align: right;\">\n",
       "      <th></th>\n",
       "      <th>y_actual</th>\n",
       "      <th>y_baseline</th>\n",
       "      <th>y_baseline_resids</th>\n",
       "    </tr>\n",
       "  </thead>\n",
       "  <tbody>\n",
       "    <tr>\n",
       "      <th>1911171</th>\n",
       "      <td>288951</td>\n",
       "      <td>327886.0</td>\n",
       "      <td>38935.0</td>\n",
       "    </tr>\n",
       "    <tr>\n",
       "      <th>818602</th>\n",
       "      <td>266330</td>\n",
       "      <td>327886.0</td>\n",
       "      <td>61556.0</td>\n",
       "    </tr>\n",
       "    <tr>\n",
       "      <th>1795717</th>\n",
       "      <td>325747</td>\n",
       "      <td>327886.0</td>\n",
       "      <td>2139.0</td>\n",
       "    </tr>\n",
       "    <tr>\n",
       "      <th>1973528</th>\n",
       "      <td>40740</td>\n",
       "      <td>327886.0</td>\n",
       "      <td>287146.0</td>\n",
       "    </tr>\n",
       "    <tr>\n",
       "      <th>1139959</th>\n",
       "      <td>369055</td>\n",
       "      <td>327886.0</td>\n",
       "      <td>-41169.0</td>\n",
       "    </tr>\n",
       "  </tbody>\n",
       "</table>\n",
       "</div>"
      ],
      "text/plain": [
       "         y_actual  y_baseline  y_baseline_resids\n",
       "1911171    288951    327886.0            38935.0\n",
       "818602     266330    327886.0            61556.0\n",
       "1795717    325747    327886.0             2139.0\n",
       "1973528     40740    327886.0           287146.0\n",
       "1139959    369055    327886.0           -41169.0"
      ]
     },
     "execution_count": 8,
     "metadata": {},
     "output_type": "execute_result"
    }
   ],
   "source": [
    "preds['y_baseline_resids'] = preds.y_baseline - preds.y_actual\n",
    "\n",
    "preds.head()"
   ]
  },
  {
   "cell_type": "code",
   "execution_count": 16,
   "id": "0841f3f7",
   "metadata": {},
   "outputs": [
    {
     "data": {
      "text/plain": [
       "<matplotlib.collections.LineCollection at 0x145079250>"
      ]
     },
     "execution_count": 16,
     "metadata": {},
     "output_type": "execute_result"
    },
    {
     "data": {
      "image/png": "[encoded data removed]",
      "text/plain": [
       "<Figure size 640x480 with 1 Axes>"
      ]
     },
     "metadata": {},
     "output_type": "display_data"
    }
   ],
   "source": [
    "sns.scatterplot(data = preds, x = 'y_actual', y = 'y_baseline_resids')\n",
    "\n",
    "plt.hlines(0, 0, preds.y_actual.max())"
   ]
  },
  {
   "cell_type": "code",
   "execution_count": 17,
   "id": "68aad93d",
   "metadata": {},
   "outputs": [
    {
     "data": {
      "text/html": [
       "<div>\n",
       "<style scoped>\n",
       "    .dataframe tbody tr th:only-of-type {\n",
       "        vertical-align: middle;\n",
       "    }\n",
       "\n",
       "    .dataframe tbody tr th {\n",
       "        vertical-align: top;\n",
       "    }\n",
       "\n",
       "    .dataframe thead th {\n",
       "        text-align: right;\n",
       "    }\n",
       "</style>\n",
       "<table border=\"1\" class=\"dataframe\">\n",
       "  <thead>\n",
       "    <tr style=\"text-align: right;\">\n",
       "      <th></th>\n",
       "      <th>y_actual</th>\n",
       "      <th>y_baseline</th>\n",
       "      <th>y_baseline_resids</th>\n",
       "      <th>y_baseline_resides_sq</th>\n",
       "    </tr>\n",
       "  </thead>\n",
       "  <tbody>\n",
       "    <tr>\n",
       "      <th>1911171</th>\n",
       "      <td>288951</td>\n",
       "      <td>327886.0</td>\n",
       "      <td>38935.0</td>\n",
       "      <td>1.515934e+09</td>\n",
       "    </tr>\n",
       "    <tr>\n",
       "      <th>818602</th>\n",
       "      <td>266330</td>\n",
       "      <td>327886.0</td>\n",
       "      <td>61556.0</td>\n",
       "      <td>3.789141e+09</td>\n",
       "    </tr>\n",
       "    <tr>\n",
       "      <th>1795717</th>\n",
       "      <td>325747</td>\n",
       "      <td>327886.0</td>\n",
       "      <td>2139.0</td>\n",
       "      <td>4.575321e+06</td>\n",
       "    </tr>\n",
       "    <tr>\n",
       "      <th>1973528</th>\n",
       "      <td>40740</td>\n",
       "      <td>327886.0</td>\n",
       "      <td>287146.0</td>\n",
       "      <td>8.245283e+10</td>\n",
       "    </tr>\n",
       "    <tr>\n",
       "      <th>1139959</th>\n",
       "      <td>369055</td>\n",
       "      <td>327886.0</td>\n",
       "      <td>-41169.0</td>\n",
       "      <td>1.694887e+09</td>\n",
       "    </tr>\n",
       "  </tbody>\n",
       "</table>\n",
       "</div>"
      ],
      "text/plain": [
       "         y_actual  y_baseline  y_baseline_resids  y_baseline_resides_sq\n",
       "1911171    288951    327886.0            38935.0           1.515934e+09\n",
       "818602     266330    327886.0            61556.0           3.789141e+09\n",
       "1795717    325747    327886.0             2139.0           4.575321e+06\n",
       "1973528     40740    327886.0           287146.0           8.245283e+10\n",
       "1139959    369055    327886.0           -41169.0           1.694887e+09"
      ]
     },
     "execution_count": 17,
     "metadata": {},
     "output_type": "execute_result"
    }
   ],
   "source": [
    "preds['y_baseline_resides_sq'] = preds['y_baseline_resids'] ** 2\n",
    "\n",
    "preds.head()"
   ]
  },
  {
   "cell_type": "code",
   "execution_count": 18,
   "id": "8f7444ca",
   "metadata": {},
   "outputs": [
    {
     "data": {
      "text/plain": [
       "7.633754896847814e+17"
      ]
     },
     "execution_count": 18,
     "metadata": {},
     "output_type": "execute_result"
    }
   ],
   "source": [
    "sse_baseline = preds.y_baseline_resides_sq.sum()\n",
    "\n",
    "sse_baseline"
   ]
  },
  {
   "cell_type": "code",
   "execution_count": 19,
   "id": "0040cf15",
   "metadata": {},
   "outputs": [
    {
     "data": {
      "text/plain": [
       "507607028584.75323"
      ]
     },
     "execution_count": 19,
     "metadata": {},
     "output_type": "execute_result"
    }
   ],
   "source": [
    "mse_baseline = sse_baseline / len(preds)\n",
    "\n",
    "mse_baseline"
   ]
  },
  {
   "cell_type": "code",
   "execution_count": 20,
   "id": "f624bd9e",
   "metadata": {},
   "outputs": [
    {
     "data": {
      "text/plain": [
       "712465.4578186603"
      ]
     },
     "execution_count": 20,
     "metadata": {},
     "output_type": "execute_result"
    }
   ],
   "source": [
    "rmse_baseline = sqrt(mse_baseline)\n",
    "\n",
    "rmse_baseline"
   ]
  },
  {
   "cell_type": "markdown",
   "id": "ccf57a83",
   "metadata": {},
   "source": [
    "## Fit a linear regression model (ordinary least squares) and compute yhat, predictions of taxvaluedollarcnt using only calculatedfinishedsqft.\n",
    "\n"
   ]
  },
  {
   "cell_type": "code",
   "execution_count": 21,
   "id": "7ec28c7f",
   "metadata": {},
   "outputs": [],
   "source": [
    "lm = LinearRegression()\n",
    "\n",
    "lm.fit(X_train, y_train)\n",
    "\n",
    "preds['y_hat'] = lm.predict(X_train)"
   ]
  },
  {
   "cell_type": "code",
   "execution_count": 22,
   "id": "92fd261e",
   "metadata": {},
   "outputs": [
    {
     "data": {
      "text/plain": [
       "629763.354145059"
      ]
     },
     "execution_count": 22,
     "metadata": {},
     "output_type": "execute_result"
    }
   ],
   "source": [
    "rmse_model = sqrt(mean_squared_error(preds['y_actual'], preds['y_hat']))\n",
    "\n",
    "rmse_model"
   ]
  },
  {
   "cell_type": "code",
   "execution_count": 23,
   "id": "63ffa50f",
   "metadata": {},
   "outputs": [
    {
     "name": "stdout",
     "output_type": "stream",
     "text": [
      "RMSE of our baseline: 712465\n",
      "RMSE of our finely tuned model: 629763\n"
     ]
    }
   ],
   "source": [
    "print(f'RMSE of our baseline: {round(rmse_baseline)}')\n",
    "print(f'RMSE of our finely tuned model: {round(rmse_model)}')"
   ]
  },
  {
   "cell_type": "markdown",
   "id": "971165c7",
   "metadata": {},
   "source": [
    "## Plot the residuals for the linear regression model that you made."
   ]
  },
  {
   "cell_type": "code",
   "execution_count": 25,
   "id": "a397993d",
   "metadata": {},
   "outputs": [
    {
     "data": {
      "text/plain": [
       "<matplotlib.collections.LineCollection at 0x14522bd10>"
      ]
     },
     "execution_count": 25,
     "metadata": {},
     "output_type": "execute_result"
    },
    {
     "data": {
      "image/png": "[encoded data removed]",
      "text/plain": [
       "<Figure size 640x480 with 1 Axes>"
      ]
     },
     "metadata": {},
     "output_type": "display_data"
    }
   ],
   "source": [
    "preds['y_hat_resids'] = preds.y_hat - preds.y_actual\n",
    "\n",
    "sns.scatterplot(data = preds, x = 'y_actual', y = 'y_hat_resids')\n",
    "\n",
    "plt.hlines(0, 0, preds.y_actual.max())"
   ]
  },
  {
   "cell_type": "code",
   "execution_count": 26,
   "id": "b5f4267f",
   "metadata": {},
   "outputs": [
    {
     "data": {
      "text/html": [
       "<div>\n",
       "<style scoped>\n",
       "    .dataframe tbody tr th:only-of-type {\n",
       "        vertical-align: middle;\n",
       "    }\n",
       "\n",
       "    .dataframe tbody tr th {\n",
       "        vertical-align: top;\n",
       "    }\n",
       "\n",
       "    .dataframe thead th {\n",
       "        text-align: right;\n",
       "    }\n",
       "</style>\n",
       "<table border=\"1\" class=\"dataframe\">\n",
       "  <thead>\n",
       "    <tr style=\"text-align: right;\">\n",
       "      <th></th>\n",
       "      <th>y_actual</th>\n",
       "      <th>y_baseline</th>\n",
       "      <th>y_baseline_resids</th>\n",
       "      <th>y_baseline_resides_sq</th>\n",
       "      <th>y_hat</th>\n",
       "      <th>y_hat_resids</th>\n",
       "      <th>y_baseline_minus_mean</th>\n",
       "    </tr>\n",
       "  </thead>\n",
       "  <tbody>\n",
       "    <tr>\n",
       "      <th>1911171</th>\n",
       "      <td>288951</td>\n",
       "      <td>327886.0</td>\n",
       "      <td>38935.0</td>\n",
       "      <td>1.515934e+09</td>\n",
       "      <td>303366.384569</td>\n",
       "      <td>14415.384569</td>\n",
       "      <td>-133975.431902</td>\n",
       "    </tr>\n",
       "    <tr>\n",
       "      <th>818602</th>\n",
       "      <td>266330</td>\n",
       "      <td>327886.0</td>\n",
       "      <td>61556.0</td>\n",
       "      <td>3.789141e+09</td>\n",
       "      <td>631445.260836</td>\n",
       "      <td>365115.260836</td>\n",
       "      <td>-133975.431902</td>\n",
       "    </tr>\n",
       "    <tr>\n",
       "      <th>1795717</th>\n",
       "      <td>325747</td>\n",
       "      <td>327886.0</td>\n",
       "      <td>2139.0</td>\n",
       "      <td>4.575321e+06</td>\n",
       "      <td>598962.203780</td>\n",
       "      <td>273215.203780</td>\n",
       "      <td>-133975.431902</td>\n",
       "    </tr>\n",
       "    <tr>\n",
       "      <th>1973528</th>\n",
       "      <td>40740</td>\n",
       "      <td>327886.0</td>\n",
       "      <td>287146.0</td>\n",
       "      <td>8.245283e+10</td>\n",
       "      <td>424017.739349</td>\n",
       "      <td>383277.739349</td>\n",
       "      <td>-133975.431902</td>\n",
       "    </tr>\n",
       "    <tr>\n",
       "      <th>1139959</th>\n",
       "      <td>369055</td>\n",
       "      <td>327886.0</td>\n",
       "      <td>-41169.0</td>\n",
       "      <td>1.694887e+09</td>\n",
       "      <td>632373.348181</td>\n",
       "      <td>263318.348181</td>\n",
       "      <td>-133975.431902</td>\n",
       "    </tr>\n",
       "  </tbody>\n",
       "</table>\n",
       "</div>"
      ],
      "text/plain": [
       "         y_actual  y_baseline  y_baseline_resids  y_baseline_resides_sq  \\\n",
       "1911171    288951    327886.0            38935.0           1.515934e+09   \n",
       "818602     266330    327886.0            61556.0           3.789141e+09   \n",
       "1795717    325747    327886.0             2139.0           4.575321e+06   \n",
       "1973528     40740    327886.0           287146.0           8.245283e+10   \n",
       "1139959    369055    327886.0           -41169.0           1.694887e+09   \n",
       "\n",
       "                 y_hat   y_hat_resids  y_baseline_minus_mean  \n",
       "1911171  303366.384569   14415.384569         -133975.431902  \n",
       "818602   631445.260836  365115.260836         -133975.431902  \n",
       "1795717  598962.203780  273215.203780         -133975.431902  \n",
       "1973528  424017.739349  383277.739349         -133975.431902  \n",
       "1139959  632373.348181  263318.348181         -133975.431902  "
      ]
     },
     "execution_count": 26,
     "metadata": {},
     "output_type": "execute_result"
    }
   ],
   "source": [
    "preds['y_baseline_minus_mean'] = preds.y_baseline - preds.y_actual.mean()\n",
    "\n",
    "preds.head()"
   ]
  },
  {
   "cell_type": "code",
   "execution_count": 27,
   "id": "9d593158",
   "metadata": {},
   "outputs": [
    {
     "data": {
      "text/plain": [
       "2.6993606720305468e+16"
      ]
     },
     "execution_count": 27,
     "metadata": {},
     "output_type": "execute_result"
    }
   ],
   "source": [
    "ess_baseline = sum(preds['y_baseline_minus_mean'] ** 2)\n",
    "\n",
    "ess_baseline"
   ]
  },
  {
   "cell_type": "code",
   "execution_count": 28,
   "id": "e863ea64",
   "metadata": {},
   "outputs": [
    {
     "data": {
      "text/plain": [
       "7.903690964050868e+17"
      ]
     },
     "execution_count": 28,
     "metadata": {},
     "output_type": "execute_result"
    }
   ],
   "source": [
    "tss_baseline = sse_baseline + ess_baseline\n",
    "\n",
    "tss_baseline"
   ]
  },
  {
   "cell_type": "code",
   "execution_count": 29,
   "id": "81960394",
   "metadata": {},
   "outputs": [
    {
     "data": {
      "text/plain": [
       "0.03415316570837996"
      ]
     },
     "execution_count": 29,
     "metadata": {},
     "output_type": "execute_result"
    }
   ],
   "source": [
    "r_baseline = ess_baseline / tss_baseline\n",
    "\n",
    "r_baseline"
   ]
  },
  {
   "cell_type": "code",
   "execution_count": 30,
   "id": "00695209",
   "metadata": {},
   "outputs": [
    {
     "data": {
      "text/plain": [
       "0.19004244533912207"
      ]
     },
     "execution_count": 30,
     "metadata": {},
     "output_type": "execute_result"
    }
   ],
   "source": [
    "r2_score(preds.y_actual, preds.y_hat)"
   ]
  },
  {
   "cell_type": "code",
   "execution_count": null,
   "id": "b7ea96e8",
   "metadata": {},
   "outputs": [],
   "source": []
  }
 ],
 "metadata": {
  "kernelspec": {
   "display_name": "Python 3 (ipykernel)",
   "language": "python",
   "name": "python3"
  },
  "language_info": {
   "codemirror_mode": {
    "name": "ipython",
    "version": 3
   },
   "file_extension": ".py",
   "mimetype": "text/x-python",
   "name": "python",
   "nbconvert_exporter": "python",
   "pygments_lexer": "ipython3",
   "version": "3.11.3"
  }
 },
 "nbformat": 4,
 "nbformat_minor": 5
}
